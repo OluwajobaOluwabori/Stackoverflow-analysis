{
 "cells": [
  {
   "cell_type": "code",
   "execution_count": 1,
   "id": "030ecab6",
   "metadata": {},
   "outputs": [],
   "source": [
    "def unique_answers(df,column):\n",
    "    '''\n",
    "    INPUT \n",
    "        df - the column to be splitted\n",
    "        column - the column name you want to obtain the unique answers from\n",
    "        \n",
    "    OUTPUT\n",
    "    \n",
    "        Unique_vals - A set containing all the possible (unique) answers in the column\n",
    "    '''\n",
    "    df1=df.dropna(subset = [column])\n",
    "    Unique_vals = set()\n",
    "    df1[column]=df1[column].str.split(';')\n",
    "    for row in df1[column]:\n",
    "        for role in row:\n",
    "            Unique_vals.add(role)\n",
    "    return(Unique_vals)"
   ]
  },
  {
   "cell_type": "code",
   "execution_count": null,
   "id": "fed8f16b",
   "metadata": {},
   "outputs": [],
   "source": []
  }
 ],
 "metadata": {
  "kernelspec": {
   "display_name": "Python 3 (ipykernel)",
   "language": "python",
   "name": "python3"
  },
  "language_info": {
   "codemirror_mode": {
    "name": "ipython",
    "version": 3
   },
   "file_extension": ".py",
   "mimetype": "text/x-python",
   "name": "python",
   "nbconvert_exporter": "python",
   "pygments_lexer": "ipython3",
   "version": "3.9.7"
  }
 },
 "nbformat": 4,
 "nbformat_minor": 5
}
